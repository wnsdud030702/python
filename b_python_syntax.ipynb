{
 "cells": [
  {
   "cell_type": "code",
   "execution_count": 5,
   "metadata": {},
   "outputs": [
    {
     "name": "stdout",
     "output_type": "stream",
     "text": [
      "True\n",
      "True2\n"
     ]
    }
   ],
   "source": [
    "if True:\n",
    "  print(\"True\")\n",
    "  print(\"True2\")\n",
    "else:\n",
    "    print(\"False\")"
   ]
  },
  {
   "cell_type": "code",
   "execution_count": 8,
   "metadata": {},
   "outputs": [
    {
     "name": "stdout",
     "output_type": "stream",
     "text": [
      "60\n"
     ]
    }
   ],
   "source": [
    "a = 10 \n",
    "b = 20\n",
    "c = 30\n",
    "total = a + \\\n",
    "        b + \\\n",
    "        c\n",
    "\n",
    "print(total)\n",
    "\n",
    "d = [1, 2, 3,\n",
    "     4, 5, 6]"
   ]
  },
  {
   "cell_type": "code",
   "execution_count": 9,
   "metadata": {},
   "outputs": [],
   "source": [
    "a2 = 'hello'\n",
    "b2 = \"Hello 2\"\n",
    "c2 = \"\"\"Hello 3\"\"\"\n",
    "d2 = '''Hello 4'''\n",
    "e2 = \"\"\"First Line\n",
    "        Second Line\n",
    "        Third Line\"\"\""
   ]
  },
  {
   "cell_type": "code",
   "execution_count": 13,
   "metadata": {},
   "outputs": [
    {
     "name": "stdout",
     "output_type": "stream",
     "text": [
      "10 20 30\n",
      "<class 'tuple'>\n",
      "(100, 200, 300)\n",
      "100 200 300\n"
     ]
    }
   ],
   "source": [
    "a3, b3, c3 = 10, 20, 30\n",
    "print(a3, b3, c3)\n",
    "d4 = (100, 200, 300) # Tuple\n",
    "print(type(d4))\n",
    "print(d4)\n",
    "x3, y3, z3 = d4\n",
    "print(x3, y3, z3)"
   ]
  },
  {
   "cell_type": "code",
   "execution_count": 15,
   "metadata": {},
   "outputs": [
    {
     "name": "stdout",
     "output_type": "stream",
     "text": [
      "3.3333333333333335\n",
      "3\n"
     ]
    }
   ],
   "source": [
    "a4 = 10\n",
    "b4 = 3\n",
    "c4 = a4 / b4\n",
    "print(c4)\n",
    "d4 = a4 // b4 # 목 연산\n",
    "print(d4)"
   ]
  },
  {
   "cell_type": "code",
   "execution_count": 17,
   "metadata": {},
   "outputs": [
    {
     "name": "stdout",
     "output_type": "stream",
     "text": [
      "100200\n",
      "300\n"
     ]
    }
   ],
   "source": [
    "a5, b5 = \"100\", \"200\"\n",
    "\n",
    "print(a5 + b5)\n",
    "print(int(a5) + int(b5))"
   ]
  },
  {
   "cell_type": "code",
   "execution_count": 23,
   "metadata": {},
   "outputs": [
    {
     "name": "stdout",
     "output_type": "stream",
     "text": [
      "HelloHelloHello\n",
      "--------------------------------------------------\n",
      "[1, 2, 3, 4, 5, 1, 2, 3, 4, 5, 1, 2, 3, 4, 5, 1, 2, 3, 4, 5, 1, 2, 3, 4, 5]\n"
     ]
    }
   ],
   "source": [
    "a6 = \"Hello\" # 문자열은 문자의 리스트\n",
    "print(a6 * 3) # 리스트의 스칼라곱은 반복 print(['H', 'e', 'l', 'l', 'o'] * 3)\n",
    "print('-' * 50)\n",
    "print([1, 2, 3, 4, 5] * 5)"
   ]
  },
  {
   "cell_type": "code",
   "execution_count": 28,
   "metadata": {},
   "outputs": [
    {
     "name": "stdout",
     "output_type": "stream",
     "text": [
      "s\n",
      "is to\n",
      "y\n",
      "eed P\n"
     ]
    }
   ],
   "source": [
    "a7 = \"Life is too short, You need Python\"\n",
    "print(a7[6]) # indexing (위치로 목록의 값 한 개를 뽑는 동작)\n",
    "print(a7[5:10]) # slicing ( 위치의 범위로 목록의 값 0개 이상을 뽑는 동작)\n",
    "print(a7[-5])\n",
    "print(a7[-10:-5])"
   ]
  },
  {
   "cell_type": "code",
   "execution_count": 33,
   "metadata": {},
   "outputs": [
    {
     "name": "stdout",
     "output_type": "stream",
     "text": [
      "hello, 124, 11.230000\n",
      "hi, 567, 90.54\n"
     ]
    }
   ],
   "source": [
    "print(\"%s, %d, %f\"%('hello', 124, 11.23))\n",
    "print(\"{0}, {1}, {2}\".format('hi', 567, 90.54))"
   ]
  },
  {
   "cell_type": "code",
   "execution_count": 34,
   "metadata": {},
   "outputs": [
    {
     "data": {
      "text/plain": [
       "'Your Name is John Doe and age is 35'"
      ]
     },
     "execution_count": 34,
     "metadata": {},
     "output_type": "execute_result"
    }
   ],
   "source": [
    "name = \"John Doe\"\n",
    "age = 35\n",
    "\n",
    "f'Your Name is {name} and age is {age}'"
   ]
  },
  {
   "cell_type": "code",
   "execution_count": 35,
   "metadata": {},
   "outputs": [
    {
     "name": "stdout",
     "output_type": "stream",
     "text": [
      "6\n",
      "8\n",
      "[4, 5, 6, 7]\n",
      "[1, 2, 3, 4, 5, 6]\n",
      "[7, 8, 9, 10]\n"
     ]
    }
   ],
   "source": [
    "a8 = [1, 2, 3, 4, 5, 6, 7, 8, 9, 10]\n",
    "print( a8[5] )\n",
    "print( a8[-3] )\n",
    "print( a8[3:7] )\n",
    "print( a8[:6] )\n",
    "print( a8[6:] )\n"
   ]
  },
  {
   "cell_type": "code",
   "execution_count": 39,
   "metadata": {},
   "outputs": [
    {
     "name": "stdout",
     "output_type": "stream",
     "text": [
      "[1, 2, 3, 10, 20, 30]\n",
      "[1, 2, 3, 1, 2, 3, 1, 2, 3]\n"
     ]
    }
   ],
   "source": [
    "a9 = [1, 2, 3]\n",
    "b9 = [10, 20, 30]\n",
    "print(a9 + b9)\n",
    "# print(a9 - b9)\n",
    "print(a9 * 3)"
   ]
  },
  {
   "cell_type": "code",
   "execution_count": 42,
   "metadata": {},
   "outputs": [
    {
     "name": "stdout",
     "output_type": "stream",
     "text": [
      "4\n",
      "[4]\n",
      "[1, 2, 3, [1, 2, 3], 5]\n",
      "[1, 2, 3, [1, 2, 3], 1, 2, 3]\n"
     ]
    }
   ],
   "source": [
    "a10 = [1, 2, 3, 4, 5]\n",
    "print( a10[3] )\n",
    "print( a10[3:4] )\n",
    "\n",
    "a10[3] = [1, 2, 3]\n",
    "print( a10 )\n",
    "a10[4:5] = [1, 2, 3]\n",
    "print( a10 )"
   ]
  },
  {
   "cell_type": "code",
   "execution_count": 44,
   "metadata": {},
   "outputs": [
    {
     "ename": "TypeError",
     "evalue": "'tuple' object does not support item assignment",
     "output_type": "error",
     "traceback": [
      "\u001b[1;31m---------------------------------------------------------------------------\u001b[0m",
      "\u001b[1;31mTypeError\u001b[0m                                 Traceback (most recent call last)",
      "Cell \u001b[1;32mIn[44], line 3\u001b[0m\n\u001b[0;32m      1\u001b[0m t1 \u001b[39m=\u001b[39m (\u001b[39m1\u001b[39m, \u001b[39m2\u001b[39m, \u001b[39m'\u001b[39m\u001b[39ma\u001b[39m\u001b[39m'\u001b[39m, \u001b[39m'\u001b[39m\u001b[39mb\u001b[39m\u001b[39m'\u001b[39m)\n\u001b[0;32m      2\u001b[0m \u001b[39m# del t1[0]\u001b[39;00m\n\u001b[1;32m----> 3\u001b[0m t1[\u001b[39m0\u001b[39;49m] \u001b[39m=\u001b[39m \u001b[39m100\u001b[39m\n",
      "\u001b[1;31mTypeError\u001b[0m: 'tuple' object does not support item assignment"
     ]
    }
   ],
   "source": [
    "t1 = (1, 2, 'a', 'b')\n",
    "# del t1[0]\n",
    "t1[0] = 100"
   ]
  },
  {
   "cell_type": "code",
   "execution_count": 50,
   "metadata": {},
   "outputs": [
    {
     "name": "stdout",
     "output_type": "stream",
     "text": [
      "4\n",
      "()\n"
     ]
    }
   ],
   "source": [
    "t2 = (1, 2, 3, 4, 5, 6, 7)\n",
    "print(t2[3])\n",
    "# print(t2[10])\n",
    "print(t2[8:10])"
   ]
  },
  {
   "cell_type": "code",
   "execution_count": 52,
   "metadata": {},
   "outputs": [
    {
     "name": "stdout",
     "output_type": "stream",
     "text": [
      "{'name': 'pey', 'phone': '0119993323', 'birth': '1118'}\n",
      "pey\n"
     ]
    }
   ],
   "source": [
    "d1 = {'name': 'pey', 'phone': '0119993323', 'birth': '1118'}\n",
    "print(d1)\n",
    "print(d1['name'])"
   ]
  },
  {
   "cell_type": "code",
   "execution_count": 54,
   "metadata": {},
   "outputs": [
    {
     "name": "stdout",
     "output_type": "stream",
     "text": [
      "name pey\n",
      "phone 0119993323\n",
      "birth 1118\n"
     ]
    }
   ],
   "source": [
    "for item in d1: # key 목록 반복\n",
    "    print(item, d1[item])"
   ]
  },
  {
   "cell_type": "code",
   "execution_count": 58,
   "metadata": {},
   "outputs": [
    {
     "name": "stdout",
     "output_type": "stream",
     "text": [
      "dict_keys(['name', 'phone', 'birth'])\n",
      "dict_values(['pey', '0119993323', '1118'])\n",
      "dict_items([('name', 'pey'), ('phone', '0119993323'), ('birth', '1118')])\n"
     ]
    }
   ],
   "source": [
    "print(d1.keys())\n",
    "print(d1.values())\n",
    "print(d1.items())"
   ]
  },
  {
   "cell_type": "code",
   "execution_count": 59,
   "metadata": {},
   "outputs": [
    {
     "name": "stdout",
     "output_type": "stream",
     "text": [
      "name pey\n",
      "phone 0119993323\n",
      "birth 1118\n"
     ]
    }
   ],
   "source": [
    "for key, value in d1.items():\n",
    "    print(key, value)"
   ]
  },
  {
   "cell_type": "code",
   "execution_count": 62,
   "metadata": {},
   "outputs": [
    {
     "name": "stdout",
     "output_type": "stream",
     "text": [
      "None\n",
      "no email\n"
     ]
    }
   ],
   "source": [
    "# d1['email'] # key가 없으면 오류\n",
    "print( d1.get('email') ) # key가 없으면 빈 값\n",
    "print( d1.get('email', 'no email')) # key가 없으면 기본 값"
   ]
  },
  {
   "cell_type": "code",
   "execution_count": null,
   "metadata": {},
   "outputs": [],
   "source": []
  }
 ],
 "metadata": {
  "kernelspec": {
   "display_name": "kdigital-ocr-env",
   "language": "python",
   "name": "python3"
  },
  "language_info": {
   "codemirror_mode": {
    "name": "ipython",
    "version": 3
   },
   "file_extension": ".py",
   "mimetype": "text/x-python",
   "name": "python",
   "nbconvert_exporter": "python",
   "pygments_lexer": "ipython3",
   "version": "3.8.15"
  },
  "orig_nbformat": 4,
  "vscode": {
   "interpreter": {
    "hash": "ea0dc718a059573099e441c9475ee264e7f48073538e95f58a36540246fb1492"
   }
  }
 },
 "nbformat": 4,
 "nbformat_minor": 2
}
