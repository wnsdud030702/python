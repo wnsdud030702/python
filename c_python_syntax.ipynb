{
 "cells": [
  {
   "cell_type": "code",
   "execution_count": 2,
   "metadata": {},
   "outputs": [
    {
     "name": "stdout",
     "output_type": "stream",
     "text": [
      "김윤석\n"
     ]
    }
   ],
   "source": [
    "name = input(\"Input Your Name : \")\n",
    "print(name)"
   ]
  },
  {
   "cell_type": "code",
   "execution_count": 4,
   "metadata": {},
   "outputs": [
    {
     "name": "stdout",
     "output_type": "stream",
     "text": [
      "True\n"
     ]
    }
   ],
   "source": [
    "# b = true or false ( java or javascript)\n",
    "b = True\n",
    "b = False\n",
    "\n",
    "if b:\n",
    "    pass\n",
    "else:\n",
    "    print(\"True\")"
   ]
  },
  {
   "cell_type": "code",
   "execution_count": 9,
   "metadata": {},
   "outputs": [
    {
     "name": "stdout",
     "output_type": "stream",
     "text": [
      "0\n",
      "2\n",
      "4\n",
      "6\n",
      "8\n"
     ]
    }
   ],
   "source": [
    "for idx in range(0, 10, 2): # for (int i = 0; i < 10; i += 2)\n",
    "    print(idx)"
   ]
  },
  {
   "cell_type": "code",
   "execution_count": 19,
   "metadata": {},
   "outputs": [
    {
     "name": "stdout",
     "output_type": "stream",
     "text": [
      "[10, 20, 30, 40, 50, 60, 70, 80, 90, 100]\n",
      "[10, 20, 30, 40, 50, 60, 70, 80, 90, 100]\n",
      "(10, 20, 30, 40, 50, 60, 70, 80, 90, 100)\n",
      "{'key1': 10, 'key2': 20, 'key3': 30, 'key4': 40, 'key5': 50, 'key6': 60, 'key7': 70, 'key8': 80, 'key9': 90, 'key10': 100}\n",
      "[20, 40, 60, 80, 100]\n"
     ]
    }
   ],
   "source": [
    "a = [1, 2, 3, 4, 5, 6, 7, 8, 9, 10]\n",
    "# 각 요소에 x10 처리\n",
    "vs = []\n",
    "for v in a:\n",
    "    vs.append(v * 10)\n",
    "print(vs)\n",
    "\n",
    "vs2 = [v * 10 for v in a]\n",
    "print(vs2)\n",
    "\n",
    "vs3 = (v * 10 for v in a)\n",
    "print(tuple(vs3))\n",
    "\n",
    "vs4 = {\"key\" + str(v) : v * 10 for v in a}\n",
    "print(vs4)\n",
    "\n",
    "vs5 = [v * 10 for v in a if v % 2 == 0]\n",
    "print(vs5)"
   ]
  },
  {
   "cell_type": "code",
   "execution_count": 23,
   "metadata": {},
   "outputs": [
    {
     "name": "stdout",
     "output_type": "stream",
     "text": [
      "1\n",
      "3\n",
      "5\n",
      "7\n",
      "9\n"
     ]
    }
   ],
   "source": [
    "a = [1, 2, 3, 4, 5, 6, 7, 8, 9, 10]\n",
    "a2 = filter(lambda v: v % 2 != 0, a)\n",
    "for v in a2:\n",
    "    print(v)"
   ]
  },
  {
   "cell_type": "code",
   "execution_count": 26,
   "metadata": {},
   "outputs": [
    {
     "name": "stdout",
     "output_type": "stream",
     "text": [
      "a 10\n",
      "b 20\n",
      "c 30\n",
      "d 40\n",
      "e 50\n",
      "f 60\n",
      "[('a', 10), ('b', 20), ('c', 30), ('d', 40), ('e', 50), ('f', 60)]\n",
      "{'a': 10, 'b': 20, 'c': 30, 'd': 40, 'e': 50, 'f': 60}\n"
     ]
    }
   ],
   "source": [
    "key = ['a', 'b', 'c', 'd', 'e', 'f']\n",
    "value = [10, 20, 30, 40, 50, 60]\n",
    "\n",
    "for (k, v) in zip(key, value):\n",
    "    print(k, v)\n",
    "\n",
    "new_list = [(k, v) for (k, v) in zip(key, value) ]\n",
    "print( new_list )\n",
    "\n",
    "new_dict = { k: v for (k, v) in zip(key, value) }\n",
    "print( new_dict )\n"
   ]
  },
  {
   "cell_type": "code",
   "execution_count": 30,
   "metadata": {},
   "outputs": [
    {
     "name": "stdout",
     "output_type": "stream",
     "text": [
      "1 4 9 16 25 36 49 64 81 100 "
     ]
    }
   ],
   "source": [
    "a = [1, 2, 3, 4, 5, 6, 7, 8, 9, 10]\n",
    "a2 = map(lambda v: v ** 2, a)\n",
    "for v in a2:\n",
    "    print(v, end=\" \")"
   ]
  },
  {
   "cell_type": "code",
   "execution_count": null,
   "metadata": {},
   "outputs": [],
   "source": []
  },
  {
   "cell_type": "code",
   "execution_count": 5,
   "metadata": {},
   "outputs": [],
   "source": [
    "def sum_and_mul(a, b):\n",
    "    s = a + b\n",
    "    m = a * b\n",
    "    return s, m"
   ]
  },
  {
   "cell_type": "code",
   "execution_count": 8,
   "metadata": {},
   "outputs": [
    {
     "name": "stdout",
     "output_type": "stream",
     "text": [
      "<class 'tuple'>\n",
      "(30, 200)\n",
      "30 200\n"
     ]
    }
   ],
   "source": [
    "r = sum_and_mul(10, 20)\n",
    "print( type(r) )\n",
    "print( r )\n",
    "\n",
    "s, m = sum_and_mul(10, 20)\n",
    "print(s, m)"
   ]
  },
  {
   "cell_type": "code",
   "execution_count": 9,
   "metadata": {},
   "outputs": [],
   "source": [
    "def say_myself(name, old, man=True): \n",
    "    print(\"나의 이름은 %s 입니다.\" % name) \n",
    "    print(\"나이는 %d살입니다.\" % old) \n",
    "    if man: \n",
    "        print(\"남자입니다.\")\n",
    "    else: \n",
    "        print(\"여자입니다.\")"
   ]
  },
  {
   "cell_type": "code",
   "execution_count": 11,
   "metadata": {},
   "outputs": [
    {
     "name": "stdout",
     "output_type": "stream",
     "text": [
      "나의 이름은 장동건 입니다.\n",
      "나이는 45살입니다.\n",
      "남자입니다.\n",
      "나의 이름은 김고은 입니다.\n",
      "나이는 25살입니다.\n",
      "여자입니다.\n"
     ]
    }
   ],
   "source": [
    "say_myself('장동건', 45)\n",
    "say_myself('김고은', 25, False)"
   ]
  },
  {
   "cell_type": "code",
   "execution_count": 12,
   "metadata": {},
   "outputs": [],
   "source": [
    "def sum_many(*args): \n",
    "    sum = 0 \n",
    "    for i in args: \n",
    "        sum = sum + i \n",
    "    return sum"
   ]
  },
  {
   "cell_type": "code",
   "execution_count": 14,
   "metadata": {},
   "outputs": [
    {
     "name": "stdout",
     "output_type": "stream",
     "text": [
      "15\n",
      "36\n"
     ]
    }
   ],
   "source": [
    "print( sum_many(1, 2, 3, 4, 5) )\n",
    "print( sum_many(1, 2, 3, 4, 5, 6, 7, 8) )"
   ]
  },
  {
   "cell_type": "code",
   "execution_count": 15,
   "metadata": {},
   "outputs": [],
   "source": [
    "def var_args_func(**dict_data): # k-value list --> dictionary\n",
    "    for key, item in dict_data.items():\n",
    "        print( (key, item), end=' ' )\n",
    "    print()"
   ]
  },
  {
   "cell_type": "code",
   "execution_count": 19,
   "metadata": {},
   "outputs": [
    {
     "name": "stdout",
     "output_type": "stream",
     "text": [
      "('a', 100) ('b', 200) ('c', 300) ('d', 400) ('e', 500) \n",
      "('a2', 100) ('b2', 200) ('c2', 300) ('d2', 400) ('e2', 500) \n"
     ]
    }
   ],
   "source": [
    "var_args_func(a = 100, b = 200, c = 300, d = 400, e = 500)\n",
    "\n",
    "data = { 'a2' : 100, 'b2' : 200, 'c2' : 300, 'd2' : 400, 'e2' : 500 }\n",
    "var_args_func(**data) # dictionary --> k-value list\n"
   ]
  },
  {
   "cell_type": "code",
   "execution_count": 22,
   "metadata": {},
   "outputs": [
    {
     "name": "stdout",
     "output_type": "stream",
     "text": [
      "1 4 9 16 25 "
     ]
    }
   ],
   "source": [
    "def squared(x):\n",
    "    return x**2\n",
    "\n",
    "a = [1, 2, 3, 4, 5]\n",
    "\n",
    "# a2 = []\n",
    "# for v in a:\n",
    "#     tv = squared(v)\n",
    "#     a2.append(tv)\n",
    "\n",
    "# a2 = map(squared, a)\n",
    "\n",
    "a2 = map(lambda v: v**2, a)\n",
    "\n",
    "for d in a2:\n",
    "    print(d, end=' ')\n"
   ]
  },
  {
   "cell_type": "code",
   "execution_count": 23,
   "metadata": {},
   "outputs": [],
   "source": [
    "def test_func(a, b):\n",
    "    \"\"\"\n",
    "    전달인자를 출력하는 함수입니다.\n",
    "    전달인자는 여러 개를 받을 수 있습니다.\n",
    "    전달인자의 자료형은 제한되지 않습니다.\n",
    "    \"\"\"\n",
    "    print(a)\n",
    "    print(b)\n",
    "    '전달인자를 출력하는 함수입니다2222222.'"
   ]
  },
  {
   "cell_type": "code",
   "execution_count": 26,
   "metadata": {},
   "outputs": [
    {
     "name": "stdout",
     "output_type": "stream",
     "text": [
      "10\n",
      "20\n",
      "None\n"
     ]
    }
   ],
   "source": [
    "test_func(10, 20)\n"
   ]
  },
  {
   "cell_type": "code",
   "execution_count": 30,
   "metadata": {},
   "outputs": [
    {
     "name": "stdout",
     "output_type": "stream",
     "text": [
      "1 2 3 4 5 "
     ]
    }
   ],
   "source": [
    "def my_generator(*p):\n",
    "    for i in p:\n",
    "        yield i # 호출한 쪽에서 next를 호출한 다음에 제어권이 돌아오는 명령\n",
    "\n",
    "mg = my_generator(1, 2, 3, 4, 5)\n",
    "# next(mg), next(mg), next(mg), next(mg), next(mg)\n",
    "\n",
    "for x in mg:\n",
    "    print(x, end=' ')"
   ]
  },
  {
   "cell_type": "code",
   "execution_count": null,
   "metadata": {},
   "outputs": [],
   "source": []
  },
  {
   "cell_type": "code",
   "execution_count": 31,
   "metadata": {},
   "outputs": [],
   "source": [
    "class Employee:\n",
    "    'Common base class for all employees'\n",
    "\n",
    "    empCount = 0 # static 변수\n",
    "\n",
    "    def __init__(self, name, salary): # 생성자 메서드 (constructor)\n",
    "        self.name = name # 인스턴스형 변수 (필드)\n",
    "        self.salary = salary\n",
    "        Employee.empCount += 1\n",
    "    \n",
    "    def displayCount(self):\n",
    "        print(\"Total Employee %d\" % Employee.empCount)\n",
    "\n",
    "    def displayEmployee(self):\n",
    "        print(\"Name : \", self.name, \", Salary: \", self.salary)"
   ]
  },
  {
   "cell_type": "code",
   "execution_count": 34,
   "metadata": {},
   "outputs": [
    {
     "name": "stdout",
     "output_type": "stream",
     "text": [
      "Name :  Zara , Salary:  2000\n",
      "Name :  Manni , Salary:  5000\n",
      "4\n"
     ]
    }
   ],
   "source": [
    "emp1 = Employee(\"Zara\", 2000)   # 인스턴스 만들기 ( 자바에서는 new Employee(\"Zara\", 2000) )\n",
    "emp2 = Employee(\"Manni\", 5000)\n",
    "\n",
    "emp1.displayEmployee()\n",
    "emp2.displayEmployee()\n",
    "\n",
    "print( Employee.empCount )\n"
   ]
  },
  {
   "cell_type": "code",
   "execution_count": 35,
   "metadata": {},
   "outputs": [
    {
     "name": "stdout",
     "output_type": "stream",
     "text": [
      "Name :  xyz , Salary:  7000\n"
     ]
    }
   ],
   "source": [
    "emp1.salary = 7000 # Add an 'salary' attribute.\n",
    "emp1.name = 'xyz' # Modify 'age' attribute.\n",
    "# del emp1.salary # Delete 'age' attribute\n",
    "\n",
    "emp1.displayEmployee()"
   ]
  },
  {
   "cell_type": "code",
   "execution_count": 36,
   "metadata": {},
   "outputs": [],
   "source": [
    "class Parent: # define parent class\n",
    "    parentAttr = 100\n",
    "    def __init__(self):\n",
    "        print (\"Calling parent constructor\")\n",
    "    def parentMethod(self):\n",
    "        print ('Calling parent method')\n",
    "    def setAttr(self, attr):\n",
    "        Parent.parentAttr = attr\n",
    "    def getAttr(self):\n",
    "        print (\"Parent attribute :\", Parent.parentAttr)\n",
    "        \n",
    "class Child(Parent): # define child class\n",
    "    def __init__(self):\n",
    "        print (\"Calling child constructor\")\n",
    "    def childMethod(self):\n",
    "        print ('Calling child method')"
   ]
  },
  {
   "cell_type": "code",
   "execution_count": 37,
   "metadata": {},
   "outputs": [
    {
     "name": "stdout",
     "output_type": "stream",
     "text": [
      "Calling child constructor\n",
      "Calling child method\n",
      "Calling parent method\n",
      "Parent attribute : 200\n"
     ]
    }
   ],
   "source": [
    "c = Child() # instance of child\n",
    "c.childMethod() # child calls its method\n",
    "c.parentMethod() # calls parent's method\n",
    "c.setAttr(200) # again call parent's method\n",
    "c.getAttr() # again call parent's method"
   ]
  },
  {
   "cell_type": "code",
   "execution_count": 39,
   "metadata": {},
   "outputs": [
    {
     "name": "stdout",
     "output_type": "stream",
     "text": [
      "True\n",
      "False\n",
      "True\n",
      "True\n",
      "True\n"
     ]
    }
   ],
   "source": [
    "print( issubclass(Child, Parent) ) # True\n",
    "print( issubclass(Parent, Child) ) # False\n",
    "print( issubclass(Parent, Parent) ) # True\n",
    "print( issubclass(Parent, object) ) # True\n",
    "print( issubclass(Child, object) ) # True\n"
   ]
  },
  {
   "cell_type": "code",
   "execution_count": 41,
   "metadata": {},
   "outputs": [
    {
     "name": "stdout",
     "output_type": "stream",
     "text": [
      "(<class 'object'>,)\n",
      "(<class '__main__.Parent'>,)\n"
     ]
    }
   ],
   "source": [
    "print( Parent.__bases__ )\n",
    "print( Child.__bases__ )\n"
   ]
  },
  {
   "cell_type": "code",
   "execution_count": 42,
   "metadata": {},
   "outputs": [],
   "source": [
    "class Tiger: \n",
    "    def Jump(self): \n",
    "        print(\"호랑이처럼 멀리 점프하기\")\n",
    "    def Cry(self): \n",
    "        print(\"호랑이: 어흥~\")\n",
    "class Lion: \n",
    "    def Bite(self): \n",
    "        print(\"사자처럼 한입에 꿀꺽하기\")\n",
    "    def Cry(self): \n",
    "        print(\"사자: 으르렁~\")\n",
    "class Liger(Tiger, Lion): \n",
    "    def Play(self): \n",
    "        print(\"라이거만의 사육사와 재미있게 놀기\")"
   ]
  },
  {
   "cell_type": "code",
   "execution_count": 44,
   "metadata": {},
   "outputs": [
    {
     "name": "stdout",
     "output_type": "stream",
     "text": [
      "호랑이: 어흥~\n"
     ]
    }
   ],
   "source": [
    "liger = Liger()\n",
    "liger.Cry()"
   ]
  },
  {
   "cell_type": "code",
   "execution_count": null,
   "metadata": {},
   "outputs": [],
   "source": []
  },
  {
   "cell_type": "code",
   "execution_count": 1,
   "metadata": {},
   "outputs": [
    {
     "name": "stdout",
     "output_type": "stream",
     "text": [
      "this is mod1 module\n"
     ]
    },
    {
     "data": {
      "text/plain": [
       "130"
      ]
     },
     "execution_count": 1,
     "metadata": {},
     "output_type": "execute_result"
    }
   ],
   "source": [
    "import mod1\n",
    "\n",
    "mod1.sum(10, 20)"
   ]
  },
  {
   "cell_type": "code",
   "execution_count": 2,
   "metadata": {},
   "outputs": [
    {
     "data": {
      "text/plain": [
       "400"
      ]
     },
     "execution_count": 2,
     "metadata": {},
     "output_type": "execute_result"
    }
   ],
   "source": [
    "import mod1 as my_util\n",
    "\n",
    "my_util.sum(100, 200)"
   ]
  },
  {
   "cell_type": "code",
   "execution_count": 3,
   "metadata": {},
   "outputs": [],
   "source": [
    "int = 10"
   ]
  },
  {
   "cell_type": "code",
   "execution_count": 5,
   "metadata": {},
   "outputs": [
    {
     "data": {
      "text/plain": [
       "10"
      ]
     },
     "execution_count": 5,
     "metadata": {},
     "output_type": "execute_result"
    }
   ],
   "source": [
    "int"
   ]
  },
  {
   "cell_type": "code",
   "execution_count": 1,
   "metadata": {},
   "outputs": [
    {
     "name": "stdout",
     "output_type": "stream",
     "text": [
      "this is mod1 module\n"
     ]
    }
   ],
   "source": [
    "from mod1 import sum as my_sum"
   ]
  },
  {
   "cell_type": "code",
   "execution_count": 2,
   "metadata": {},
   "outputs": [
    {
     "data": {
      "text/plain": [
       "150"
      ]
     },
     "execution_count": 2,
     "metadata": {},
     "output_type": "execute_result"
    }
   ],
   "source": [
    "my_sum(10,40)"
   ]
  },
  {
   "cell_type": "code",
   "execution_count": 2,
   "metadata": {},
   "outputs": [
    {
     "name": "stdout",
     "output_type": "stream",
     "text": [
      "600\n"
     ]
    }
   ],
   "source": [
    "import com.ocr.utils.mod2\n",
    "\n",
    "print( com.ocr.utils.mod2.sum2(100, 400) )"
   ]
  },
  {
   "cell_type": "code",
   "execution_count": 3,
   "metadata": {},
   "outputs": [
    {
     "name": "stdout",
     "output_type": "stream",
     "text": [
      "600\n"
     ]
    }
   ],
   "source": [
    "from com.ocr.utils import mod2\n",
    "\n",
    "print( mod2.sum2(100, 400) )"
   ]
  },
  {
   "cell_type": "code",
   "execution_count": 5,
   "metadata": {},
   "outputs": [
    {
     "name": "stdout",
     "output_type": "stream",
     "text": [
      "600\n"
     ]
    }
   ],
   "source": [
    "from com.ocr import utils\n",
    "\n",
    "print( utils.mod2.sum2(100, 400) )"
   ]
  },
  {
   "cell_type": "code",
   "execution_count": 6,
   "metadata": {},
   "outputs": [
    {
     "name": "stdout",
     "output_type": "stream",
     "text": [
      "600\n"
     ]
    }
   ],
   "source": [
    "from com.ocr.utils.mod2 import sum2\n",
    "\n",
    "print( sum2(100, 400) )"
   ]
  },
  {
   "cell_type": "code",
   "execution_count": null,
   "metadata": {},
   "outputs": [],
   "source": []
  },
  {
   "cell_type": "code",
   "execution_count": 10,
   "metadata": {},
   "outputs": [
    {
     "name": "stdout",
     "output_type": "stream",
     "text": [
      "[Errno 2] No such file or directory: 'foo.txt'\n",
      "예외 여부와 관계 없이 실행\n"
     ]
    }
   ],
   "source": [
    "try:\n",
    "    f = open('foo.txt', 'r')\n",
    "except FileNotFoundError as e:\n",
    "    print(str(e))\n",
    "else:\n",
    "    data = f.read()\n",
    "    f.close()\n",
    "finally:\n",
    "    print(\"예외 여부와 관계 없이 실행\")\n",
    "        "
   ]
  },
  {
   "cell_type": "code",
   "execution_count": 11,
   "metadata": {},
   "outputs": [],
   "source": [
    "with open('test.txt', 'wt', encoding=\"utf-8\") as f:\n",
    "    f.write('파일에 기록하는 데이터 4\\n')\n",
    "    f.write('파일에 기록하는 데이터 5\\n')\n",
    "    f.write('파일에 기록하는 데이터 6\\n')"
   ]
  },
  {
   "cell_type": "code",
   "execution_count": 12,
   "metadata": {},
   "outputs": [
    {
     "name": "stdout",
     "output_type": "stream",
     "text": [
      "['파일에 기록하는 데이터 4\\n', '파일에 기록하는 데이터 5\\n', '파일에 기록하는 데이터 6\\n']\n",
      "108\n",
      "[]\n",
      "['파일에 기록하는 데이터 4\\n', '파일에 기록하는 데이터 5\\n', '파일에 기록하는 데이터 6\\n']\n"
     ]
    }
   ],
   "source": [
    "with open('test.txt', 'rt', encoding='utf-8') as f:\n",
    "    print( f.readlines() )  # 전체 데이터 읽기 (포이터를 파일 끝으로 이동)\n",
    "    print( f.tell() )       # 현재 읽기 포인터 위치\n",
    "    print( f.readlines() )  # 전체 데이터 읽기 (읽은 내용 없음)\n",
    "    f.seek(0)               # 파일 포인터 이동 (처음으로)\n",
    "    print(f.readlines())    # 전체 데이터 읽기"
   ]
  },
  {
   "cell_type": "code",
   "execution_count": 13,
   "metadata": {},
   "outputs": [],
   "source": [
    "# I/O : 텍스트 데이터, 바이너리 (기본형), 바이너리 (객체) : ObjectInputStream, ObjectOutputStream ( Serialization )\n",
    "\n",
    "import pickle\n",
    "\n",
    "a = [1, 2, 3, 4, 5]\n",
    "b = [10, 20, 30, 40, 50]\n",
    "c = { 'a': 1, 'b': 2, 'c': 3}\n",
    "with open('data.dat', 'wb') as f:\n",
    "    pickle.dump(a, f)\n",
    "    pickle.dump(b, f)\n",
    "    pickle.dump(c, f)\n"
   ]
  },
  {
   "cell_type": "code",
   "execution_count": 14,
   "metadata": {},
   "outputs": [
    {
     "name": "stdout",
     "output_type": "stream",
     "text": [
      "[1, 2, 3, 4, 5]\n",
      "[10, 20, 30, 40, 50]\n",
      "{'a': 1, 'b': 2, 'c': 3}\n"
     ]
    }
   ],
   "source": [
    "with open('data.dat', 'rb') as f:\n",
    "    a2 = pickle.load(f)\n",
    "    print(a2)\n",
    "    b2 = pickle.load(f)\n",
    "    print(b2)\n",
    "    c2 = pickle.load(f)\n",
    "    print(c2)"
   ]
  },
  {
   "cell_type": "code",
   "execution_count": null,
   "metadata": {},
   "outputs": [],
   "source": []
  }
 ],
 "metadata": {
  "kernelspec": {
   "display_name": "kdigital-ocr-env",
   "language": "python",
   "name": "python3"
  },
  "language_info": {
   "codemirror_mode": {
    "name": "ipython",
    "version": 3
   },
   "file_extension": ".py",
   "mimetype": "text/x-python",
   "name": "python",
   "nbconvert_exporter": "python",
   "pygments_lexer": "ipython3",
   "version": "3.8.15"
  },
  "orig_nbformat": 4,
  "vscode": {
   "interpreter": {
    "hash": "ea0dc718a059573099e441c9475ee264e7f48073538e95f58a36540246fb1492"
   }
  }
 },
 "nbformat": 4,
 "nbformat_minor": 2
}
